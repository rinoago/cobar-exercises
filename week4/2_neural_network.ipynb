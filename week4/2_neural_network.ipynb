{
 "cells": [
  {
   "cell_type": "markdown",
   "metadata": {},
   "source": [
    "# Install pytorch\n",
    "This exercise requires [pytorch](https://pytorch.org). To install it:\n",
    "\n",
    "1. Activate your virtual environment:\n",
    "   ```sh\n",
    "   conda activate flygym\n",
    "   ```\n",
    "2. Install pytorch with pip:\n",
    "   ```sh\n",
    "   pip install torch\n",
    "   ```\n",
    "\n",
    "For details on how to use pytorch, refer to the [pytorch tutorials](https://pytorch.org/tutorials/)."
   ]
  },
  {
   "cell_type": "markdown",
   "metadata": {},
   "source": [
    "# Exercise 2: Neural network\n",
    "The basic center of mass tracking method that we used in the [vision tutorial](1_vision.ipynb) might fail for objects that blend in closely with the background. In this exercise, we will introduce a second fly into the arena and deploy a neural network to accurately track its location.\n",
    "\n",
    "For the neural network to learn, it's essential to first compile a dataset containing images along with the precise locations of this additional fly. This has been implemented in [generate_dataset.py](generate_dataset.py). The script requires a few minutes to execute. To speed up the process, the dataset have already been generated and saved in [data/data.npz](data/data.npz).\n",
    "\n",
    "Now, we will proceed to load the dataset:"
   ]
  },
  {
   "cell_type": "code",
   "execution_count": null,
   "metadata": {},
   "outputs": [],
   "source": [
    "import numpy as np\n",
    "\n",
    "data = np.load(\"data/data.npz\")\n",
    "images = data[\"images\"]\n",
    "# The images are stored in a 4D array (n_images, n_eyes, n_rows, n_cols)\n",
    "print(f\"Shape of images: {images.shape}\")\n",
    "# The positions of the second fly are stored in polar coordinates (r, theta)\n",
    "r = data[\"r\"]\n",
    "theta = data[\"theta\"]\n",
    "data.close()"
   ]
  },
  {
   "cell_type": "markdown",
   "metadata": {},
   "source": [
    "We will convert the position of the fly from polar coordinates $(r, \\theta)$ into a Cartesian coordinate system that has undergone rotation and inversion. The two basis vectors point at 45° to the left and right of the fly, respectively.\n",
    "\n",
    "<img src=\"images/coordinates.png\" width=\"600\">\n",
    "\n",
    "Implement the conversion below. What is the advantage of this encoding?"
   ]
  },
  {
   "cell_type": "code",
   "execution_count": null,
   "metadata": {},
   "outputs": [],
   "source": [
    "################################################################\n",
    "# TODO: Convert the polar coordinates to cartesian coordinates\n",
    "...\n",
    "coords_lr = ...\n",
    "################################################################\n",
    "\n",
    "# The shape should be (# of samples, 2)\n",
    "assert coords_lr.shape == (len(images), 2)"
   ]
  },
  {
   "cell_type": "markdown",
   "metadata": {},
   "source": [
    "Next, we can create the data loaders:"
   ]
  },
  {
   "cell_type": "code",
   "execution_count": null,
   "metadata": {},
   "outputs": [],
   "source": [
    "import torch\n",
    "from torch.utils.data import TensorDataset, DataLoader, random_split\n",
    "\n",
    "dataset = TensorDataset(torch.tensor(images), torch.tensor(coords_lr))\n",
    "datasets = dict(\n",
    "    zip([\"train\", \"val\", \"test\"], random_split(dataset, [8000, 1000, 1000]))\n",
    ")\n",
    "batch_size = 32\n",
    "loaders = {\n",
    "    name: DataLoader(dataset, batch_size=batch_size, shuffle=name == \"train\")\n",
    "    for name, dataset in datasets.items()\n",
    "}"
   ]
  },
  {
   "cell_type": "markdown",
   "metadata": {},
   "source": [
    "Construct your neural network model in the following cell. A simple Convolutional Neural Network (CNN) should be enough for achieving good performance on this dataset."
   ]
  },
  {
   "cell_type": "code",
   "execution_count": null,
   "metadata": {},
   "outputs": [],
   "source": [
    "from torch import nn\n",
    "import torch.nn.functional as F\n",
    "\n",
    "\n",
    "class Model(nn.Module):\n",
    "    def __init__(self):\n",
    "        super().__init__()\n",
    "        #########################################\n",
    "        # TODO: Define your layers here\n",
    "        # e.g., self.conv1 = nn.Conv2d(...)\n",
    "\n",
    "        #########################################\n",
    "\n",
    "    def forward(self, x):\n",
    "        #########################################\n",
    "        # TODO: Define the forward pass\n",
    "\n",
    "        return ...\n",
    "        #########################################"
   ]
  },
  {
   "cell_type": "code",
   "execution_count": null,
   "metadata": {},
   "outputs": [],
   "source": [
    "from copy import deepcopy\n",
    "import torch.optim as optim\n",
    "\n",
    "model = Model()\n",
    "criterion = nn.MSELoss()\n",
    "optimizer = optim.Adam(model.parameters(), lr=0.001)\n",
    "best_val_loss = float(\"inf\")\n",
    "\n",
    "for epoch in range(100):\n",
    "    model.train()\n",
    "    train_loss = 0\n",
    "\n",
    "    for inputs, labels in loaders[\"train\"]:\n",
    "        optimizer.zero_grad()\n",
    "        outputs = model(inputs)\n",
    "        loss = criterion(outputs, labels)\n",
    "        loss.backward()\n",
    "        optimizer.step()\n",
    "        train_loss += loss.item()\n",
    "\n",
    "    train_loss /= len(loaders[\"train\"])\n",
    "\n",
    "    model.eval()\n",
    "\n",
    "    with torch.no_grad():\n",
    "        val_loss = 0\n",
    "        for inputs, labels in loaders[\"val\"]:\n",
    "            outputs = model(inputs)\n",
    "            val_loss += criterion(outputs, labels).item()\n",
    "\n",
    "    val_loss /= len(loaders[\"val\"])\n",
    "\n",
    "    print(f\"{epoch=}, {train_loss=:0.4f}, {val_loss=:0.4f}\")\n",
    "\n",
    "    if val_loss < best_val_loss:\n",
    "        best_model_state = deepcopy(model.state_dict())\n",
    "        best_val_loss = val_loss\n",
    "\n",
    "model.load_state_dict(best_model_state)"
   ]
  },
  {
   "cell_type": "markdown",
   "metadata": {},
   "source": [
    "Finally, let's run the model on the testing data and visualize the predictions:"
   ]
  },
  {
   "cell_type": "code",
   "execution_count": null,
   "metadata": {},
   "outputs": [],
   "source": [
    "import matplotlib.pyplot as plt\n",
    "\n",
    "test_indices = datasets[\"test\"].indices\n",
    "with torch.no_grad():\n",
    "    coords_lr_pred = model(torch.tensor(images[test_indices])).numpy()\n",
    "\n",
    "theta_pred = np.angle(coords_lr_pred @ (1, -1j) * np.exp(1j * np.pi / 4))\n",
    "\n",
    "fig, axs = plt.subplots(1, 3, figsize=(9, 3))\n",
    "for i in range(2):\n",
    "    axs[i].scatter(coords_lr[test_indices, i], coords_lr_pred[:, i], alpha=0.1)\n",
    "\n",
    "axs[2].scatter(theta[test_indices], theta_pred, alpha=0.1)\n",
    "axs[0].set_ylabel(\"Prediction\")\n",
    "axs[1].set_xlabel(\"Ground truth\")\n",
    "\n",
    "for ax, title in zip(axs, [\"$x_L$\", \"$x_R$\", \"$\\\\theta$\"]):\n",
    "    ax.set_title(title)"
   ]
  },
  {
   "cell_type": "markdown",
   "metadata": {},
   "source": [
    "Can you estimate the visual field of the fly based on the plots?"
   ]
  },
  {
   "cell_type": "markdown",
   "metadata": {},
   "source": [
    "In this exercise, we have learned how to\n",
    "- Create image datasets with NeuroMechFly simulation\n",
    "- Use neural networks to estimate object position"
   ]
  }
 ],
 "metadata": {
  "kernelspec": {
   "display_name": "flygym",
   "language": "python",
   "name": "python3"
  },
  "language_info": {
   "codemirror_mode": {
    "name": "ipython",
    "version": 3
   },
   "file_extension": ".py",
   "mimetype": "text/x-python",
   "name": "python",
   "nbconvert_exporter": "python",
   "pygments_lexer": "ipython3",
   "version": "3.11.8"
  }
 },
 "nbformat": 4,
 "nbformat_minor": 2
}
