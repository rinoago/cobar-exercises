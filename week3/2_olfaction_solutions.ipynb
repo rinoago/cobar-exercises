{
 "cells": [
  {
   "cell_type": "markdown",
   "metadata": {},
   "source": [
    "# Olfaction\n",
    "\n",
    "**Summary:** In this tutorial, we will implement a simple controller for odor-guided taxis.\n",
    "\n",
    "To interact with the world, we also made it possible for our model to detect odors emitted by objects in the simulation environment. The olfactory system in _Drosophila_ consists of specialized olfactory sensory neurons (OSNs) located in the antennae and maxillary palps. These detect specific odorant molecules and convey this information to the brain’s antennal lobe, where their signals are further processed. This is shown in the figure below (left, source: [Martin et al, 2013](https://doi.org/10.1002/ar.22747)) We emulated peripheral olfaction by attaching virtual odor sensors to the antennae and maxillary palps of our biomechanical model, as shown in the figure (right). The user has the option of configuring additional sensors at more precise locations on these olfactory organs. These virtual sensors can detect odor intensities across a multi-dimensional space that can be thought of as representing, for example, the concentrations of monomolecular chemicals sensed by OSNs in the antennae, or the intensities of composite odors co-activating numerous projection neurons in the antennal lobe.\n",
    "\n",
    "<img src=\"https://github.com/NeLy-EPFL/_media/blob/main/flygym/olfaction.png?raw=true\" alt=\"rule_based\" width=\"600\"/>"
   ]
  },
  {
   "cell_type": "markdown",
   "metadata": {},
   "source": [
    "## Odor arena\n",
    "\n",
    "To demonstrate odor sensing, let's create an environment with one attractive odor source and two aversive odor sources. The dimension of this odor space is 2 (attractive, aversive) despite the number of odor sources being 3. The odor sources share a peak intensity of 1. We will color the attractive odor source orange and the aversive odor sources blue."
   ]
  },
  {
   "cell_type": "code",
   "execution_count": 1,
   "metadata": {},
   "outputs": [],
   "source": [
    "import numpy as np\n",
    "\n",
    "# random state seed for reproducibility\n",
    "seed = 1\n",
    "\n",
    "# Odor source: array of shape (num_odor_sources, 3) - xyz coords of odor sources\n",
    "odor_source = np.array([[24, 0, 1.5], [8, -4, 1.5], [16, 4, 1.5]])\n",
    "\n",
    "# Peak intensities: array of shape (num_odor_sources, odor_dimensions)\n",
    "# For each odor source, if the intensity is (x, 0) then the odor is in the 1st dimension\n",
    "# (in this case attractive). If it's (0, x) then it's in the 2nd dimension (in this case\n",
    "# aversive)\n",
    "peak_odor_intensity = np.array([[1, 0], [0, 1], [0, 1]])\n",
    "\n",
    "# Marker colors: array of shape (num_odor_sources, 4) - RGBA values for each marker,\n",
    "# normalized to [0, 1]\n",
    "marker_colors = [[255, 127, 14], [31, 119, 180], [31, 119, 180]]\n",
    "marker_colors = np.array([[*np.array(color) / 255, 1] for color in marker_colors])\n",
    "\n",
    "odor_dimensions = len(peak_odor_intensity[0])"
   ]
  },
  {
   "cell_type": "markdown",
   "metadata": {},
   "source": [
    "Let's create the arena using these parameters. The detailed documentation of the `OdorArena` class can be found in the [API reference](https://neuromechfly.org/api_ref/arena.html#flygym.mujoco.arena.OdorArena). Its implementation is beyond the scope of this tutorial but can be found [here](https://github.com/NeLy-EPFL/flygym/blob/main/flygym/mujoco/arena/sensory_environment.py)."
   ]
  },
  {
   "cell_type": "code",
   "execution_count": 2,
   "metadata": {},
   "outputs": [
    {
     "name": "stderr",
     "output_type": "stream",
     "text": [
      "/Users/tom/miniconda3/envs/flygym/lib/python3.11/site-packages/pygame/pkgdata.py:25: DeprecationWarning: pkg_resources is deprecated as an API. See https://setuptools.pypa.io/en/latest/pkg_resources.html\n",
      "  from pkg_resources import resource_stream, resource_exists\n",
      "/Users/tom/miniconda3/envs/flygym/lib/python3.11/site-packages/pkg_resources/__init__.py:2871: DeprecationWarning: Deprecated call to `pkg_resources.declare_namespace('sphinxcontrib')`.\n",
      "Implementing implicit namespace packages (as specified in PEP 420) is preferred to `pkg_resources.declare_namespace`. See https://setuptools.pypa.io/en/latest/references/keywords.html#keyword-namespace-packages\n",
      "  declare_namespace(pkg)\n",
      "/Users/tom/miniconda3/envs/flygym/lib/python3.11/site-packages/pkg_resources/__init__.py:2871: DeprecationWarning: Deprecated call to `pkg_resources.declare_namespace('sphinxcontrib')`.\n",
      "Implementing implicit namespace packages (as specified in PEP 420) is preferred to `pkg_resources.declare_namespace`. See https://setuptools.pypa.io/en/latest/references/keywords.html#keyword-namespace-packages\n",
      "  declare_namespace(pkg)\n"
     ]
    }
   ],
   "source": [
    "from flygym.mujoco.arena import OdorArena\n",
    "\n",
    "arena = OdorArena(\n",
    "    odor_source=odor_source,\n",
    "    peak_intensity=peak_odor_intensity,\n",
    "    diffuse_func=lambda x: x**-2,\n",
    "    marker_colors=marker_colors,\n",
    "    marker_size=0.3,\n",
    ")"
   ]
  },
  {
   "cell_type": "markdown",
   "metadata": {},
   "source": [
    "Let’s place our fly in the arena. As before, we will run a few iterations to allow it to stand on the ground in a stable manner.\n",
    "\n",
    "Note that we will be using the `HybridTurningNMF` as the turning controller. This class serves as an enhanced version of the `TurningNMF` in the previous exercises, utilizing sensory feedback to prevent the fly from stumbling. For further details, refer to https://neuromechfly.org/tutorials/hybrid_controller.html and https://neuromechfly.org/tutorials/turning.html."
   ]
  },
  {
   "cell_type": "code",
   "execution_count": 3,
   "metadata": {},
   "outputs": [
    {
     "data": {
      "image/png": "[encoded data removed]",
      "text/plain": [
       "<Figure size 500x400 with 1 Axes>"
      ]
     },
     "metadata": {},
     "output_type": "display_data"
    }
   ],
   "source": [
    "from pathlib import Path\n",
    "import matplotlib.pyplot as plt\n",
    "from flygym.mujoco import Parameters\n",
    "from flygym.mujoco.examples.turning_controller import HybridTurningNMF\n",
    "\n",
    "\n",
    "Path(\"./outputs\").mkdir(exist_ok=True)\n",
    "\n",
    "\n",
    "contact_sensor_placements = [\n",
    "    f\"{leg}{segment}\"\n",
    "    for leg in [\"LF\", \"LM\", \"LH\", \"RF\", \"RM\", \"RH\"]\n",
    "    for segment in [\"Tibia\", \"Tarsus1\", \"Tarsus2\", \"Tarsus3\", \"Tarsus4\", \"Tarsus5\"]\n",
    "]\n",
    "sim_params = Parameters(\n",
    "    timestep=1e-4,\n",
    "    render_mode=\"saved\",\n",
    "    render_playspeed=0.5,\n",
    "    render_window_size=(800, 608),\n",
    "    enable_olfaction=True,\n",
    "    enable_adhesion=True,\n",
    "    draw_adhesion=False,\n",
    "    render_camera=\"birdeye_cam\",\n",
    ")\n",
    "sim = HybridTurningNMF(\n",
    "    sim_params=sim_params,\n",
    "    arena=arena,\n",
    "    spawn_pos=(0, 0, 0.2),\n",
    "    contact_sensor_placements=contact_sensor_placements,\n",
    ")\n",
    "for i in range(500):\n",
    "    sim.step(np.zeros(2))\n",
    "    sim.render()\n",
    "fig, ax = plt.subplots(1, 1, figsize=(5, 4), tight_layout=True)\n",
    "ax.imshow(sim._frames[-1])\n",
    "ax.axis(\"off\")\n",
    "fig.savefig(\"./outputs/olfaction_env.png\")"
   ]
  },
  {
   "cell_type": "markdown",
   "metadata": {},
   "source": [
    "## Controller for odor taxis\n",
    "\n",
    "Let's design a simple hand-tuned controller for odor-guided taxis. We start by calculating the left-right asymmetry of the odor intensity $I$ for each odor $o$:\n",
    "\n",
    "$$\n",
    "\\Delta I_o = \\frac{I_\\text{left,o} - I_\\text{right,o}}{(I_\\text{left,o} + I_\\text{right,o}) / 2}\n",
    "$$\n",
    "\n",
    "Then, we multiply $\\Delta I_o$ by a gain $\\gamma_o$ for each odor dimension and take the sum $s$. Attractive and aversive odors will have different signs in their gains.\n",
    "\n",
    "$$\n",
    "s = \\sum_{o} \\gamma_o \\Delta I_o\n",
    "$$\n",
    "\n",
    "We transform $s$ nonlinearly to avoid overly drastic turns when the asymmetry is subtle and to crop it within the range [0, 1). This gives us a turning bias $b$:\n",
    "\n",
    "$$\n",
    "b = \\tanh(s^2)\n",
    "$$\n",
    "\n",
    "Finally, we modulate the descending signal $\\delta$ based on $b$ and the sign of $s$:\n",
    "\n",
    "$$\n",
    "\\delta_\\text{left} = \n",
    "    \\begin{cases}\n",
    "    \\delta_\\text{max} & \\text{if } s>0\\\\\n",
    "    \\delta_\\text{max} - b(\\delta_\\text{max} - \\delta_\\text{min})  & \\text{otherwise}\n",
    "    \\end{cases}\n",
    "    \\qquad\n",
    "    \\delta_\\text{right} = \n",
    "    \\begin{cases}\n",
    "    \\delta_\\text{max} - b(\\delta_\\text{max} - \\delta_\\text{min}) & \\text{if } s>0\\\\\n",
    "    \\delta_\\text{max}  & \\text{otherwise}\n",
    "    \\end{cases}\n",
    "$$\n",
    "\n",
    "where, $\\delta_\\text{min}$, $\\delta_\\text{max}$ define the range of the descending signal. Here, we will use the following parameters:\n",
    "\n",
    "- $\\gamma_\\text{attractive} = -500$ (negative ipsilateral gain leads to positive taxis)\n",
    "- $\\gamma_\\text{aversive} = 80$ (positive ipsilateral gain leads to negative taxis)\n",
    "- $\\delta_\\text{min} = 0.2$\n",
    "- $\\delta_\\text{max} = 1$\n",
    "\n",
    "As before, we will recalculate the steering signal every 0.05 seconds. Let's implement this in Python:"
   ]
  },
  {
   "cell_type": "code",
   "execution_count": 4,
   "metadata": {},
   "outputs": [
    {
     "name": "stderr",
     "output_type": "stream",
     "text": [
      " 63%|██████▎   | 63/100 [01:16<00:44,  1.21s/it]\n"
     ]
    }
   ],
   "source": [
    "from tqdm import trange\n",
    "\n",
    "# Gains for the two odors (negative = attractive, positive = aversive)\n",
    "gains = np.array([-500, 80])\n",
    "decision_interval = 0.05\n",
    "run_time = 5\n",
    "num_decision_steps = int(run_time / decision_interval)\n",
    "physics_steps_per_decision_step = int(decision_interval / sim_params.timestep)\n",
    "\n",
    "obs_hist = []\n",
    "odor_history = []\n",
    "obs, _ = sim.reset(seed)\n",
    "for i in trange(num_decision_steps):\n",
    "    I_reshaped = obs[\"odor_intensity\"].reshape((odor_dimensions, 2, 2))\n",
    "    I = np.average(I_reshaped, axis=1, weights=[120, 1200])\n",
    "\n",
    "    # Calculate the left-right asymmetry in the odor intensities\n",
    "    I_l, I_r = I[:, 0], I[:, 1]\n",
    "    denom = (I_l + I_r) / 2\n",
    "    denom[denom == 0] = 1  # Avoid division by zero\n",
    "    delta_I = (I_l - I_r) / denom\n",
    "\n",
    "    # Calculate the weighted sum of the asymmetries for each odor\n",
    "    s = np.dot(gains, delta_I)\n",
    "\n",
    "    # Calculate the turning bias\n",
    "    b = np.tanh(s**2)\n",
    "\n",
    "    control_signal = np.ones((2,))\n",
    "    side_to_modulate = int(s > 0)\n",
    "    modulation_amount = b * 0.8\n",
    "    control_signal[side_to_modulate] -= modulation_amount\n",
    "\n",
    "    for j in range(physics_steps_per_decision_step):\n",
    "        obs, _, _, _, _ = sim.step(control_signal)\n",
    "        rendered_img = sim.render()\n",
    "        if rendered_img is not None:\n",
    "            # record odor intensity too for video\n",
    "            odor_history.append(obs[\"odor_intensity\"])\n",
    "        obs_hist.append(obs)\n",
    "\n",
    "    # Stop when the fly is within 2mm of the attractive odor source\n",
    "    if np.linalg.norm(obs[\"fly\"][0, :2] - odor_source[0, :2]) < 2:\n",
    "        break"
   ]
  },
  {
   "cell_type": "markdown",
   "metadata": {},
   "source": [
    "We can visualize the fly trajectory:"
   ]
  },
  {
   "cell_type": "code",
   "execution_count": 5,
   "metadata": {},
   "outputs": [
    {
     "data": {
      "image/png": "[encoded data removed]",
      "text/plain": [
       "<Figure size 500x400 with 1 Axes>"
      ]
     },
     "metadata": {},
     "output_type": "display_data"
    }
   ],
   "source": [
    "fly_pos_hist = np.array([obs[\"fly\"][0, :2] for obs in obs_hist])\n",
    "fig, ax = plt.subplots(1, 1, figsize=(5, 4), tight_layout=True)\n",
    "ax.scatter(\n",
    "    [odor_source[0, 0]],\n",
    "    [odor_source[0, 1]],\n",
    "    marker=\"o\",\n",
    "    color=\"tab:orange\",\n",
    "    s=50,\n",
    "    label=\"Attractive\",\n",
    ")\n",
    "ax.scatter(\n",
    "    [odor_source[1, 0]],\n",
    "    [odor_source[1, 1]],\n",
    "    marker=\"o\",\n",
    "    color=\"tab:blue\",\n",
    "    s=50,\n",
    "    label=\"Aversive\",\n",
    ")\n",
    "ax.scatter([odor_source[2, 0]], [odor_source[2, 1]], marker=\"o\", color=\"tab:blue\", s=50)\n",
    "ax.plot(fly_pos_hist[:, 0], fly_pos_hist[:, 1], color=\"k\", label=\"Fly trajectory\")\n",
    "ax.set_aspect(\"equal\")\n",
    "ax.set_xlim(-1, 25)\n",
    "ax.set_ylim(-5, 5)\n",
    "ax.set_xlabel(\"x (mm)\")\n",
    "ax.set_ylabel(\"y (mm)\")\n",
    "ax.legend(ncols=3, loc=\"lower center\", bbox_to_anchor=(0.5, -0.6))\n",
    "fig.savefig(\"./outputs/odor_taxis_trajectory.png\")"
   ]
  },
  {
   "cell_type": "markdown",
   "metadata": {},
   "source": [
    "We can also generate the video:"
   ]
  },
  {
   "cell_type": "code",
   "execution_count": 6,
   "metadata": {},
   "outputs": [
    {
     "data": {
      "text/html": [
       "<video src=\"./outputs/odor_taxis.mp4\" controls  >\n",
       "      Your browser does not support the <code>video</code> element.\n",
       "    </video>"
      ],
      "text/plain": [
       "<IPython.core.display.Video object>"
      ]
     },
     "execution_count": 6,
     "metadata": {},
     "output_type": "execute_result"
    }
   ],
   "source": [
    "sim.save_video(\"./outputs/odor_taxis.mp4\")\n",
    "\n",
    "from IPython import display\n",
    "\n",
    "display.Video(\"./outputs/odor_taxis.mp4\")"
   ]
  },
  {
   "cell_type": "markdown",
   "metadata": {},
   "source": [
    "# Exercise 3: Understanding the code\n",
    "\n",
    "Read the first two lines of the main loop of the simulation.\n",
    "\n",
    "```python\n",
    "    I_reshaped = obs[\"odor_intensity\"].reshape((odor_dimensions, 2, 2))\n",
    "    I = np.average(I_reshaped, axis=1, weights=[120, 1200])\n",
    "```\n",
    "\n",
    "What is the purpose of these two lines?\n",
    "\n",
    "TODO: Your answer here\n",
    "\n",
    "ANSWER:\n",
    "`obs[\"odor_intensity\"]` is of shape (# of odor dimensions, # of olfactory sensors).\n",
    "The order of the olfactory sensors is (left maxillary palp, right maxillary palp, left antenna, right antenna).\n",
    "`I_reshape` is of shape (# of odor dimensions, |{maxillary palp, antenna}|, |{left, right}|).\n",
    "The second line calculates a weighted sum of the odor intensities sensed by the maxillary palps and the antennae. The weights were set to be `[120, 1200]` because the maxillary palp and the antenna has ~120 and ~1200 olfactory sensory neurons (OSNs), respectively. The shape of the resulting array, `I`, is (# of odor dimensions, |{left, right}|)"
   ]
  },
  {
   "cell_type": "markdown",
   "metadata": {},
   "source": [
    "# Exercise 4: Odor from behind\n",
    "In this exercise, let's simulate a scenario in which an attractive odor source is placed directly behind the fly."
   ]
  },
  {
   "cell_type": "code",
   "execution_count": 7,
   "metadata": {},
   "outputs": [],
   "source": [
    "decision_interval = 0.05\n",
    "run_time = 5\n",
    "num_decision_steps = int(run_time / decision_interval)\n",
    "physics_steps_per_decision_step = int(decision_interval / sim_params.timestep)\n",
    "\n",
    "#################################################################\n",
    "# TODO: Create an odor arena with a single attractive odor source\n",
    "# placed 3mm behind the fly\n",
    "gains = np.array([-500, 80])\n",
    "\n",
    "arena = OdorArena(\n",
    "    odor_source=[[-3, 0, 1.5]],\n",
    "    peak_intensity=[[1, 0]],\n",
    "    diffuse_func=lambda x: x**-2,\n",
    "    marker_colors=marker_colors,\n",
    "    marker_size=0.3,\n",
    ")\n",
    "#################################################################\n",
    "\n",
    "sim = HybridTurningNMF(\n",
    "    sim_params=sim_params,\n",
    "    arena=arena,\n",
    "    spawn_pos=(0, 0, 0.2),\n",
    "    contact_sensor_placements=contact_sensor_placements,\n",
    ")"
   ]
  },
  {
   "cell_type": "code",
   "execution_count": 8,
   "metadata": {},
   "outputs": [
    {
     "name": "stderr",
     "output_type": "stream",
     "text": [
      "100%|██████████| 100/100 [01:52<00:00,  1.12s/it]\n"
     ]
    },
    {
     "data": {
      "text/html": [
       "<video src=\"./outputs/behind.mp4\" controls  >\n",
       "      Your browser does not support the <code>video</code> element.\n",
       "    </video>"
      ],
      "text/plain": [
       "<IPython.core.display.Video object>"
      ]
     },
     "execution_count": 8,
     "metadata": {},
     "output_type": "execute_result"
    }
   ],
   "source": [
    "obs, _ = sim.reset(seed)\n",
    "for _ in trange(num_decision_steps):\n",
    "    I_reshaped = obs[\"odor_intensity\"].reshape((odor_dimensions, 2, 2))\n",
    "    I = np.average(I_reshaped, axis=1, weights=[120, 1200])\n",
    "    denom = I.mean(1)\n",
    "    denom[denom == 0] = 1\n",
    "    delta_I = (I[:, 0] - I[:, 1]) / denom\n",
    "    s = np.dot(gains, delta_I)\n",
    "    b = np.tanh(s**2)\n",
    "    control_signal = np.ones((2,))\n",
    "    side_to_modulate = int(s > 0)\n",
    "    modulation_amount = b * 0.8\n",
    "    control_signal[side_to_modulate] -= modulation_amount\n",
    "\n",
    "    for _ in range(physics_steps_per_decision_step):\n",
    "        obs, _, _, _, _ = sim.step(control_signal)\n",
    "        sim.render()\n",
    "\n",
    "    # Stop when the fly is within 2mm of the attractive odor source\n",
    "    if np.linalg.norm(obs[\"fly\"][0, :2] - arena.odor_source[0, :2]) < 2:\n",
    "        break\n",
    "\n",
    "sim.save_video(\"./outputs/behind.mp4\")\n",
    "display.Video(\"./outputs/behind.mp4\")"
   ]
  },
  {
   "cell_type": "markdown",
   "metadata": {},
   "source": [
    "Theoretically, when an odor source is placed directly behind the fly, the intensities of the odor detected by the left and right sensors should be the same, resulting in a zero turning bias. Despite this expectation, why does the fly appear to exhibit turning behavior in the video?\n",
    "\n",
    "ANSWER: Upon beginning to walk, the fly will turn slightly to either the left or the right. Since the fly exhibits an unstable equilibrium in its turning tendency when the odor source is positioned directly behind it, any slight sideway deviation would increase the asymmetry in odor intensity, which leading to increased turning behavior."
   ]
  },
  {
   "cell_type": "markdown",
   "metadata": {},
   "source": [
    "Can you modify the code to reduce the turning radius?"
   ]
  },
  {
   "cell_type": "code",
   "execution_count": 9,
   "metadata": {},
   "outputs": [
    {
     "name": "stderr",
     "output_type": "stream",
     "text": [
      " 53%|█████▎    | 53/100 [01:09<01:01,  1.30s/it]\n"
     ]
    },
    {
     "data": {
      "text/html": [
       "<video src=\"./outputs/behind_tight_turn.mp4\" controls  >\n",
       "      Your browser does not support the <code>video</code> element.\n",
       "    </video>"
      ],
      "text/plain": [
       "<IPython.core.display.Video object>"
      ]
     },
     "execution_count": 9,
     "metadata": {},
     "output_type": "execute_result"
    }
   ],
   "source": [
    "obs, _ = sim.reset(seed)\n",
    "for _ in trange(num_decision_steps):\n",
    "    #################################################################\n",
    "    # TODO: Modify the code to reduce the turning radius\n",
    "    I_reshaped = obs[\"odor_intensity\"].reshape((odor_dimensions, 2, 2))\n",
    "    I = np.average(I_reshaped, axis=1, weights=[120, 1200])\n",
    "    denom = I.mean(1)\n",
    "    denom[denom == 0] = 1\n",
    "    delta_I = (I[:, 0] - I[:, 1]) / denom\n",
    "    s = np.dot(gains, delta_I)\n",
    "    b = np.tanh(s**2)\n",
    "    control_signal = np.ones((2,))\n",
    "    side_to_modulate = int(s > 0)\n",
    "    modulation_amount = b * 1.0\n",
    "    control_signal[side_to_modulate] -= modulation_amount\n",
    "    #################################################################\n",
    "\n",
    "    for _ in range(physics_steps_per_decision_step):\n",
    "        obs, _, _, _, _ = sim.step(control_signal)\n",
    "        sim.render()\n",
    "\n",
    "    # Stop when the fly is within 2mm of the attractive odor source\n",
    "    if np.linalg.norm(obs[\"fly\"][0, :2] - arena.odor_source[0, :2]) < 2:\n",
    "        break\n",
    "\n",
    "sim.save_video(\"./outputs/behind_tight_turn.mp4\")\n",
    "display.Video(\"./outputs/behind_tight_turn.mp4\")"
   ]
  },
  {
   "cell_type": "markdown",
   "metadata": {},
   "source": [
    "# Exercise 5: Attraction vs aversion\n",
    "Let's consider the case a fly is attracted to an object placed at (4, 2, 1.5):"
   ]
  },
  {
   "cell_type": "code",
   "execution_count": 10,
   "metadata": {},
   "outputs": [
    {
     "name": "stderr",
     "output_type": "stream",
     "text": [
      "100%|██████████| 20/20 [00:14<00:00,  1.41it/s]\n"
     ]
    },
    {
     "data": {
      "text/plain": [
       "Text(0.5, 1.0, 'Attraction')"
      ]
     },
     "execution_count": 10,
     "metadata": {},
     "output_type": "execute_result"
    },
    {
     "data": {
      "image/png": "[encoded data removed]",
      "text/plain": [
       "<Figure size 500x400 with 1 Axes>"
      ]
     },
     "metadata": {},
     "output_type": "display_data"
    }
   ],
   "source": [
    "def run_simulation(\n",
    "    odor_source,\n",
    "    marker_colors,\n",
    "    odor_gains,\n",
    "    peak_odor_intensity,\n",
    "    sim_params,\n",
    "    run_time=1,\n",
    "    decision_interval=0.05,\n",
    "    NMF=HybridTurningNMF,\n",
    "):\n",
    "    num_decision_steps = int(run_time / decision_interval)\n",
    "    physics_steps_per_decision_step = int(decision_interval / sim_params.timestep)\n",
    "\n",
    "    assert all(len(odor_gains) == len(i) for i in peak_odor_intensity)\n",
    "    odor_dimensions = len(odor_gains)\n",
    "\n",
    "    arena = OdorArena(\n",
    "        odor_source=odor_source,\n",
    "        peak_intensity=peak_odor_intensity,\n",
    "        diffuse_func=lambda x: x**-2,\n",
    "        marker_colors=marker_colors,\n",
    "        marker_size=0.3,\n",
    "    )\n",
    "\n",
    "    sim = NMF(\n",
    "        sim_params=sim_params,\n",
    "        arena=arena,\n",
    "        spawn_pos=(0, 0, 0.2),\n",
    "        contact_sensor_placements=contact_sensor_placements,\n",
    "    )\n",
    "\n",
    "    obs_hist = []\n",
    "    obs, _ = sim.reset(seed)\n",
    "    for _ in trange(num_decision_steps):\n",
    "        I_reshaped = obs[\"odor_intensity\"].reshape((odor_dimensions, 2, 2))\n",
    "        I = np.average(I_reshaped, axis=1, weights=[120, 1200])\n",
    "        denom = I.mean(1)\n",
    "        denom[denom == 0] = 1\n",
    "        delta_I = (I[:, 0] - I[:, 1]) / denom\n",
    "        s = np.dot(odor_gains, delta_I)\n",
    "        b = np.tanh(s**2)\n",
    "        control_signal = np.ones((2,))\n",
    "        side_to_modulate = int(s > 0)\n",
    "        modulation_amount = b * 0.8\n",
    "        control_signal[side_to_modulate] -= modulation_amount\n",
    "\n",
    "        for _ in range(physics_steps_per_decision_step):\n",
    "            obs, _, _, _, _ = sim.step(control_signal)\n",
    "            sim.render()\n",
    "            obs_hist.append(obs)\n",
    "\n",
    "            # Stop when the fly is within 2mm of the attractive odor source\n",
    "            if np.linalg.norm(obs[\"fly\"][0, :2] - odor_source[0, :2]) < 2:\n",
    "                break\n",
    "\n",
    "    return obs_hist, sim\n",
    "\n",
    "\n",
    "def plot_trajectory(obs_hist, odor_source, marker_colors):\n",
    "    fly_pos_hist = np.array([obs[\"fly\"][0, :2] for obs in obs_hist])\n",
    "    fig, ax = plt.subplots(1, 1, figsize=(5, 4), tight_layout=True)\n",
    "\n",
    "    for (x, y), color in zip(odor_source[:, :2], marker_colors):\n",
    "        ax.scatter(x, y, marker=\"o\", color=color, s=50)\n",
    "\n",
    "    ax.plot(fly_pos_hist[:, 0], fly_pos_hist[:, 1], color=\"k\", label=\"Fly trajectory\")\n",
    "    ax.set_aspect(\"equal\")\n",
    "    ax.set_xlabel(\"x (mm)\")\n",
    "    ax.set_ylabel(\"y (mm)\")\n",
    "\n",
    "\n",
    "odor_source = np.array([[4, 2, 1.5]])\n",
    "marker_colors = np.array([[255, 127, 14, 255]]) / 255\n",
    "\n",
    "obs_hist, sim = run_simulation(\n",
    "    odor_source=odor_source,\n",
    "    marker_colors=marker_colors,\n",
    "    peak_odor_intensity=np.array([[1, 0]]),\n",
    "    odor_gains=np.array([-250, 250]),\n",
    "    sim_params=sim_params,\n",
    ")\n",
    "sim.save_video(\"./outputs/attraction.mp4\")\n",
    "plot_trajectory(obs_hist, odor_source, marker_colors)\n",
    "plt.title(\"Attraction\")"
   ]
  },
  {
   "cell_type": "markdown",
   "metadata": {},
   "source": [
    "Modify different parameters of `run_simulation` to make the fly avoid the odor source:"
   ]
  },
  {
   "cell_type": "code",
   "execution_count": 11,
   "metadata": {},
   "outputs": [
    {
     "name": "stderr",
     "output_type": "stream",
     "text": [
      "100%|██████████| 20/20 [00:23<00:00,  1.18s/it]\n",
      "100%|██████████| 20/20 [00:23<00:00,  1.17s/it]\n"
     ]
    },
    {
     "data": {
      "text/plain": [
       "Text(0.5, 1.0, 'Aversion 2')"
      ]
     },
     "execution_count": 11,
     "metadata": {},
     "output_type": "execute_result"
    },
    {
     "data": {
      "image/png": "[encoded data removed]",
      "text/plain": [
       "<Figure size 500x400 with 1 Axes>"
      ]
     },
     "metadata": {},
     "output_type": "display_data"
    },
    {
     "data": {
      "image/png": "[encoded data removed]",
      "text/plain": [
       "<Figure size 500x400 with 1 Axes>"
      ]
     },
     "metadata": {},
     "output_type": "display_data"
    }
   ],
   "source": [
    "######################################################################\n",
    "# TODO: Modify one parameter to make the fly avoid the odor source\n",
    "obs_hist, sim = run_simulation(\n",
    "    odor_source=odor_source,\n",
    "    marker_colors=marker_colors,\n",
    "    peak_odor_intensity=np.array([[0, 1]]),\n",
    "    odor_gains=np.array([-250, 250]),\n",
    "    sim_params=sim_params,\n",
    ")\n",
    "######################################################################\n",
    "sim.save_video(\"./outputs/aversion1.mp4\")\n",
    "plot_trajectory(obs_hist, odor_source, marker_colors)\n",
    "plt.title(\"Aversion 1\")\n",
    "\n",
    "######################################################################\n",
    "# TODO: Modify another parameter to make the fly avoid the odor source\n",
    "obs_hist, sim = run_simulation(\n",
    "    odor_source=odor_source,\n",
    "    marker_colors=marker_colors,\n",
    "    peak_odor_intensity=np.array([[1, 0]]),\n",
    "    odor_gains=np.array([250, -250]),\n",
    "    sim_params=sim_params,\n",
    ")\n",
    "######################################################################\n",
    "sim.save_video(\"./outputs/aversion2.mp4\")\n",
    "plot_trajectory(obs_hist, odor_source, marker_colors)\n",
    "plt.title(\"Aversion 2\")"
   ]
  },
  {
   "cell_type": "markdown",
   "metadata": {},
   "source": [
    "Can you come up with other ways to make the fly avoid the odor source?\n",
    "\n",
    "Answer: Change how the descending signals modulate the CPG parameters."
   ]
  },
  {
   "cell_type": "markdown",
   "metadata": {},
   "source": [
    "# Exercise 6: Noisy sensors\n",
    "Let's see what happens when the measurements of odor intensity are noisy:"
   ]
  },
  {
   "cell_type": "code",
   "execution_count": 12,
   "metadata": {},
   "outputs": [
    {
     "name": "stderr",
     "output_type": "stream",
     "text": [
      "100%|██████████| 40/40 [00:54<00:00,  1.37s/it]\n"
     ]
    },
    {
     "data": {
      "image/png": "[encoded data removed]",
      "text/plain": [
       "<Figure size 500x400 with 1 Axes>"
      ]
     },
     "metadata": {},
     "output_type": "display_data"
    }
   ],
   "source": [
    "class HybridTurningNMFNoisy(HybridTurningNMF):\n",
    "    def get_observation(self):\n",
    "        obs = super().get_observation()\n",
    "        rng = np.random.RandomState(round(self.curr_time / self.sim_params.timestep))\n",
    "        # Inject multiplicative noise into the odor intensity\n",
    "        obs[\"odor_intensity\"] *= rng.uniform(0, 2, size=obs[\"odor_intensity\"].shape)\n",
    "        return obs\n",
    "\n",
    "\n",
    "odor_source = np.array([[5, 5, 1.5]])\n",
    "marker_colors = np.array([[255, 127, 14, 255]]) / 255\n",
    "\n",
    "obs_hist, sim = run_simulation(\n",
    "    odor_source=odor_source,\n",
    "    marker_colors=marker_colors,\n",
    "    peak_odor_intensity=np.array([[1, 0]]),\n",
    "    odor_gains=np.array([-250, 0]),\n",
    "    sim_params=sim_params,\n",
    "    NMF=HybridTurningNMFNoisy,\n",
    "    run_time=2,\n",
    ")\n",
    "\n",
    "sim.save_video(\"./outputs/noisy.mp4\")\n",
    "plot_trajectory(obs_hist, odor_source, marker_colors)"
   ]
  },
  {
   "cell_type": "markdown",
   "metadata": {},
   "source": [
    "Let's implement a new control algorithm to make the fly turn toward the odor source more efficiently:"
   ]
  },
  {
   "cell_type": "code",
   "execution_count": 13,
   "metadata": {},
   "outputs": [],
   "source": [
    "def run_simulation_new(\n",
    "    odor_source,\n",
    "    marker_colors,\n",
    "    odor_gains,\n",
    "    peak_odor_intensity,\n",
    "    sim_params,\n",
    "    run_time=1,\n",
    "):\n",
    "    assert all(len(odor_gains) == len(i) for i in peak_odor_intensity)\n",
    "    odor_dimensions = len(odor_gains)\n",
    "\n",
    "    arena = OdorArena(\n",
    "        odor_source=odor_source,\n",
    "        peak_intensity=peak_odor_intensity,\n",
    "        diffuse_func=lambda x: x**-2,\n",
    "        marker_colors=marker_colors,\n",
    "        marker_size=0.3,\n",
    "    )\n",
    "\n",
    "    sim = HybridTurningNMFNoisy(\n",
    "        sim_params=sim_params,\n",
    "        arena=arena,\n",
    "        spawn_pos=(0, 0, 0.2),\n",
    "        contact_sensor_placements=contact_sensor_placements,\n",
    "    )\n",
    "\n",
    "    obs_hist = []\n",
    "    obs, _ = sim.reset(seed)\n",
    "\n",
    "    s = None\n",
    "\n",
    "    for _ in trange(int(run_time / sim_params.timestep)):\n",
    "        I_reshaped = obs[\"odor_intensity\"].reshape((odor_dimensions, 2, 2))\n",
    "        I = np.average(I_reshaped, axis=1, weights=[120, 1200])\n",
    "        denom = I.mean(1)\n",
    "        denom[denom == 0] = 1\n",
    "        delta_I = (I[:, 0] - I[:, 1]) / denom\n",
    "\n",
    "        s_new = np.dot(odor_gains, delta_I)\n",
    "\n",
    "        if s is None:\n",
    "            s = s_new\n",
    "\n",
    "        #################################################################\n",
    "        # TODO: Calculate the exponential moving average of s\n",
    "        # Refer to https://en.wikipedia.org/wiki/Exponential_smoothing\n",
    "        alpha = 0.001\n",
    "        s = (1 - alpha) * s + alpha * s_new\n",
    "        #################################################################\n",
    "\n",
    "        b = np.tanh(s**2)\n",
    "\n",
    "        control_signal = np.ones((2,))\n",
    "        side_to_modulate = int(s > 0)\n",
    "        modulation_amount = b * 0.8\n",
    "        control_signal[side_to_modulate] -= modulation_amount\n",
    "\n",
    "        obs, _, _, _, _ = sim.step(control_signal)\n",
    "        sim.render()\n",
    "        obs_hist.append(obs)\n",
    "\n",
    "        # Stop when the fly is within 2mm of the attractive odor source\n",
    "        if np.linalg.norm(obs[\"fly\"][0, :2] - odor_source[0, :2]) < 2:\n",
    "            break\n",
    "\n",
    "    return obs_hist, sim"
   ]
  },
  {
   "cell_type": "code",
   "execution_count": 14,
   "metadata": {},
   "outputs": [
    {
     "name": "stderr",
     "output_type": "stream",
     "text": [
      " 56%|█████▋    | 11284/20000 [00:28<00:22, 389.55it/s]\n"
     ]
    },
    {
     "data": {
      "image/png": "[encoded data removed]",
      "text/plain": [
       "<Figure size 500x400 with 1 Axes>"
      ]
     },
     "metadata": {},
     "output_type": "display_data"
    }
   ],
   "source": [
    "obs_hist, sim = run_simulation_new(\n",
    "    odor_source=odor_source,\n",
    "    marker_colors=marker_colors,\n",
    "    peak_odor_intensity=np.array([[1, 0]]),\n",
    "    odor_gains=np.array([-250, 0]),\n",
    "    sim_params=sim_params,\n",
    "    run_time=2,\n",
    ")\n",
    "sim.save_video(\"./outputs/smoothed.mp4\")\n",
    "plot_trajectory(obs_hist, odor_source, marker_colors)"
   ]
  }
 ],
 "metadata": {
  "kernelspec": {
   "display_name": "flygym0.2",
   "language": "python",
   "name": "python3"
  },
  "language_info": {
   "codemirror_mode": {
    "name": "ipython",
    "version": 3
   },
   "file_extension": ".py",
   "mimetype": "text/x-python",
   "name": "python",
   "nbconvert_exporter": "python",
   "pygments_lexer": "ipython3",
   "version": "3.11.7"
  }
 },
 "nbformat": 4,
 "nbformat_minor": 2
}
